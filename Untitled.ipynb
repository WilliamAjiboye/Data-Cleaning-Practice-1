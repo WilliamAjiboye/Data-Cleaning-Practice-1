{
 "cells": [
  {
   "cell_type": "code",
   "execution_count": 4,
   "id": "05c76826-fd10-4b59-a813-2db3e614f16b",
   "metadata": {},
   "outputs": [
    {
     "name": "stdout",
     "output_type": "stream",
     "text": [
      "<class 'pandas.core.frame.DataFrame'>\n",
      "RangeIndex: 8807 entries, 0 to 8806\n",
      "Data columns (total 12 columns):\n",
      " #   Column        Non-Null Count  Dtype \n",
      "---  ------        --------------  ----- \n",
      " 0   show_id       8807 non-null   object\n",
      " 1   type          8807 non-null   object\n",
      " 2   title         8807 non-null   object\n",
      " 3   director      6173 non-null   object\n",
      " 4   cast          7982 non-null   object\n",
      " 5   country       7976 non-null   object\n",
      " 6   date_added    8797 non-null   object\n",
      " 7   release_year  8807 non-null   int64 \n",
      " 8   rating        8803 non-null   object\n",
      " 9   duration      8804 non-null   object\n",
      " 10  listed_in     8807 non-null   object\n",
      " 11  description   8807 non-null   object\n",
      "dtypes: int64(1), object(11)\n",
      "memory usage: 825.8+ KB\n"
     ]
    }
   ],
   "source": [
    "import pandas as pd\n",
    "df=pd.read_csv('netflix_titles.csv')\n",
    "df.info()"
   ]
  },
  {
   "cell_type": "code",
   "execution_count": 6,
   "id": "8a27147d-0e11-4ba8-81c8-2e23ec2a26c8",
   "metadata": {},
   "outputs": [
    {
     "data": {
      "text/html": [
       "<div>\n",
       "<style scoped>\n",
       "    .dataframe tbody tr th:only-of-type {\n",
       "        vertical-align: middle;\n",
       "    }\n",
       "\n",
       "    .dataframe tbody tr th {\n",
       "        vertical-align: top;\n",
       "    }\n",
       "\n",
       "    .dataframe thead th {\n",
       "        text-align: right;\n",
       "    }\n",
       "</style>\n",
       "<table border=\"1\" class=\"dataframe\">\n",
       "  <thead>\n",
       "    <tr style=\"text-align: right;\">\n",
       "      <th></th>\n",
       "      <th>show_id</th>\n",
       "      <th>type</th>\n",
       "      <th>title</th>\n",
       "      <th>director</th>\n",
       "      <th>cast</th>\n",
       "      <th>country</th>\n",
       "      <th>date_added</th>\n",
       "      <th>release_year</th>\n",
       "      <th>rating</th>\n",
       "      <th>duration</th>\n",
       "      <th>listed_in</th>\n",
       "      <th>description</th>\n",
       "    </tr>\n",
       "  </thead>\n",
       "  <tbody>\n",
       "    <tr>\n",
       "      <th>5541</th>\n",
       "      <td>s5542</td>\n",
       "      <td>Movie</td>\n",
       "      <td>Louis C.K. 2017</td>\n",
       "      <td>Louis C.K.</td>\n",
       "      <td>Louis C.K.</td>\n",
       "      <td>United States</td>\n",
       "      <td>April 4, 2017</td>\n",
       "      <td>2017</td>\n",
       "      <td>74 min</td>\n",
       "      <td>NaN</td>\n",
       "      <td>Movies</td>\n",
       "      <td>Louis C.K. muses on religion, eternal love, gi...</td>\n",
       "    </tr>\n",
       "    <tr>\n",
       "      <th>5794</th>\n",
       "      <td>s5795</td>\n",
       "      <td>Movie</td>\n",
       "      <td>Louis C.K.: Hilarious</td>\n",
       "      <td>Louis C.K.</td>\n",
       "      <td>Louis C.K.</td>\n",
       "      <td>United States</td>\n",
       "      <td>September 16, 2016</td>\n",
       "      <td>2010</td>\n",
       "      <td>84 min</td>\n",
       "      <td>NaN</td>\n",
       "      <td>Movies</td>\n",
       "      <td>Emmy-winning comedy writer Louis C.K. brings h...</td>\n",
       "    </tr>\n",
       "    <tr>\n",
       "      <th>5813</th>\n",
       "      <td>s5814</td>\n",
       "      <td>Movie</td>\n",
       "      <td>Louis C.K.: Live at the Comedy Store</td>\n",
       "      <td>Louis C.K.</td>\n",
       "      <td>Louis C.K.</td>\n",
       "      <td>United States</td>\n",
       "      <td>August 15, 2016</td>\n",
       "      <td>2015</td>\n",
       "      <td>66 min</td>\n",
       "      <td>NaN</td>\n",
       "      <td>Movies</td>\n",
       "      <td>The comic puts his trademark hilarious/thought...</td>\n",
       "    </tr>\n",
       "  </tbody>\n",
       "</table>\n",
       "</div>"
      ],
      "text/plain": [
       "     show_id   type                                 title    director  \\\n",
       "5541   s5542  Movie                       Louis C.K. 2017  Louis C.K.   \n",
       "5794   s5795  Movie                 Louis C.K.: Hilarious  Louis C.K.   \n",
       "5813   s5814  Movie  Louis C.K.: Live at the Comedy Store  Louis C.K.   \n",
       "\n",
       "            cast        country          date_added  release_year  rating  \\\n",
       "5541  Louis C.K.  United States       April 4, 2017          2017  74 min   \n",
       "5794  Louis C.K.  United States  September 16, 2016          2010  84 min   \n",
       "5813  Louis C.K.  United States     August 15, 2016          2015  66 min   \n",
       "\n",
       "     duration listed_in                                        description  \n",
       "5541      NaN    Movies  Louis C.K. muses on religion, eternal love, gi...  \n",
       "5794      NaN    Movies  Emmy-winning comedy writer Louis C.K. brings h...  \n",
       "5813      NaN    Movies  The comic puts his trademark hilarious/thought...  "
      ]
     },
     "execution_count": 6,
     "metadata": {},
     "output_type": "execute_result"
    }
   ],
   "source": [
    "df[df['duration'].isna()]"
   ]
  },
  {
   "cell_type": "code",
   "execution_count": null,
   "id": "339291ee-19a6-4cd2-9ba1-e60a573ef60e",
   "metadata": {},
   "outputs": [],
   "source": []
  }
 ],
 "metadata": {
  "kernelspec": {
   "display_name": "Python 3 (ipykernel)",
   "language": "python",
   "name": "python3"
  },
  "language_info": {
   "codemirror_mode": {
    "name": "ipython",
    "version": 3
   },
   "file_extension": ".py",
   "mimetype": "text/x-python",
   "name": "python",
   "nbconvert_exporter": "python",
   "pygments_lexer": "ipython3",
   "version": "3.11.5"
  }
 },
 "nbformat": 4,
 "nbformat_minor": 5
}
