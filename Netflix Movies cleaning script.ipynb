{
 "cells": [
  {
   "cell_type": "code",
   "execution_count": 1,
   "id": "b82534bc-4a05-40a3-a5fa-ac71e1ccb7c4",
   "metadata": {},
   "outputs": [
    {
     "name": "stderr",
     "output_type": "stream",
     "text": [
      " 21%|████████▎                               | 645/3107 [17:22<50:51,  1.24s/it]"
     ]
    },
    {
     "name": "stdout",
     "output_type": "stream",
     "text": [
      "Request failed for series_id '215910': 404 Client Error: Not Found for url: https://api.themoviedb.org/3/tv/215910/season/1/credits?api_key=32dbe6d07ffdac1942e8ac6462168e45\n"
     ]
    },
    {
     "name": "stderr",
     "output_type": "stream",
     "text": [
      " 24%|████████▉                             | 734/3107 [20:21<1:15:24,  1.91s/it]"
     ]
    },
    {
     "name": "stdout",
     "output_type": "stream",
     "text": [
      "Request failed for series_id '33265': 404 Client Error: Not Found for url: https://api.themoviedb.org/3/tv/33265/season/1/credits?api_key=32dbe6d07ffdac1942e8ac6462168e45\n"
     ]
    },
    {
     "name": "stderr",
     "output_type": "stream",
     "text": [
      " 29%|███████████▍                            | 890/3107 [24:54<45:52,  1.24s/it]"
     ]
    },
    {
     "name": "stdout",
     "output_type": "stream",
     "text": [
      "Request failed for series_id '13924': 404 Client Error: Not Found for url: https://api.themoviedb.org/3/tv/13924/season/1/credits?api_key=32dbe6d07ffdac1942e8ac6462168e45\n"
     ]
    },
    {
     "name": "stderr",
     "output_type": "stream",
     "text": [
      " 44%|█████████████████▎                     | 1377/3107 [34:59<34:50,  1.21s/it]"
     ]
    },
    {
     "name": "stdout",
     "output_type": "stream",
     "text": [
      "Request failed for series_id '261645': 404 Client Error: Not Found for url: https://api.themoviedb.org/3/tv/261645/season/1/credits?api_key=32dbe6d07ffdac1942e8ac6462168e45\n"
     ]
    },
    {
     "name": "stderr",
     "output_type": "stream",
     "text": [
      " 59%|██████████████████████▉                | 1832/3107 [44:00<24:36,  1.16s/it]"
     ]
    },
    {
     "name": "stdout",
     "output_type": "stream",
     "text": [
      "Request failed for series_id '2986': 404 Client Error: Not Found for url: https://api.themoviedb.org/3/tv/2986/season/1/credits?api_key=32dbe6d07ffdac1942e8ac6462168e45\n",
      "Request failed for series_id '2986': 404 Client Error: Not Found for url: https://api.themoviedb.org/3/tv/2986/season/1/credits?api_key=32dbe6d07ffdac1942e8ac6462168e45\n"
     ]
    },
    {
     "name": "stderr",
     "output_type": "stream",
     "text": [
      " 62%|████████████████████████▏              | 1928/3107 [45:53<20:56,  1.07s/it]"
     ]
    },
    {
     "name": "stdout",
     "output_type": "stream",
     "text": [
      "Request failed for series_id '17368': 404 Client Error: Not Found for url: https://api.themoviedb.org/3/tv/17368/season/1/credits?api_key=32dbe6d07ffdac1942e8ac6462168e45\n"
     ]
    },
    {
     "name": "stderr",
     "output_type": "stream",
     "text": [
      " 66%|█████████████████████████▊             | 2055/3107 [48:19<20:30,  1.17s/it]"
     ]
    },
    {
     "name": "stdout",
     "output_type": "stream",
     "text": [
      "Request failed for series_id '17451': 404 Client Error: Not Found for url: https://api.themoviedb.org/3/tv/17451/season/1/credits?api_key=32dbe6d07ffdac1942e8ac6462168e45\n"
     ]
    },
    {
     "name": "stderr",
     "output_type": "stream",
     "text": [
      " 67%|██████████████████████████▏            | 2091/3107 [49:02<19:31,  1.15s/it]"
     ]
    },
    {
     "name": "stdout",
     "output_type": "stream",
     "text": [
      "Request failed for series_id '40529': 404 Client Error: Not Found for url: https://api.themoviedb.org/3/tv/40529/season/1/credits?api_key=32dbe6d07ffdac1942e8ac6462168e45\n"
     ]
    },
    {
     "name": "stderr",
     "output_type": "stream",
     "text": [
      " 68%|██████████████████████████▌            | 2115/3107 [49:30<18:04,  1.09s/it]"
     ]
    },
    {
     "name": "stdout",
     "output_type": "stream",
     "text": [
      "Request failed for series_id '28894': 404 Client Error: Not Found for url: https://api.themoviedb.org/3/tv/28894/season/1/credits?api_key=32dbe6d07ffdac1942e8ac6462168e45\n"
     ]
    },
    {
     "name": "stderr",
     "output_type": "stream",
     "text": [
      " 76%|█████████████████████████████▌         | 2351/3107 [54:05<12:20,  1.02it/s]"
     ]
    },
    {
     "name": "stdout",
     "output_type": "stream",
     "text": [
      "Request failed for series_id '31964': 404 Client Error: Not Found for url: https://api.themoviedb.org/3/tv/31964/season/1/credits?api_key=32dbe6d07ffdac1942e8ac6462168e45\n"
     ]
    },
    {
     "name": "stderr",
     "output_type": "stream",
     "text": [
      " 82%|████████████████████████████████▏      | 2561/3107 [58:03<10:16,  1.13s/it]"
     ]
    },
    {
     "name": "stdout",
     "output_type": "stream",
     "text": [
      "Request failed for series_id '32227': 404 Client Error: Not Found for url: https://api.themoviedb.org/3/tv/32227/season/1/credits?api_key=32dbe6d07ffdac1942e8ac6462168e45\n"
     ]
    },
    {
     "name": "stderr",
     "output_type": "stream",
     "text": [
      " 85%|█████████████████████████████████▎     | 2654/3107 [59:49<07:00,  1.08it/s]"
     ]
    },
    {
     "name": "stdout",
     "output_type": "stream",
     "text": [
      "Request failed for series_id '35353': 404 Client Error: Not Found for url: https://api.themoviedb.org/3/tv/35353/season/1/credits?api_key=32dbe6d07ffdac1942e8ac6462168e45\n"
     ]
    },
    {
     "name": "stderr",
     "output_type": "stream",
     "text": [
      " 88%|████████████████████████████████▍    | 2720/3107 [1:01:02<08:14,  1.28s/it]"
     ]
    },
    {
     "name": "stdout",
     "output_type": "stream",
     "text": [
      "Request failed for series_id '56584': 404 Client Error: Not Found for url: https://api.themoviedb.org/3/tv/56584/season/1/credits?api_key=32dbe6d07ffdac1942e8ac6462168e45\n",
      "Request failed for series_id '56584': 404 Client Error: Not Found for url: https://api.themoviedb.org/3/tv/56584/season/1/credits?api_key=32dbe6d07ffdac1942e8ac6462168e45\n"
     ]
    },
    {
     "name": "stderr",
     "output_type": "stream",
     "text": [
      " 90%|█████████████████████████████████▏   | 2785/3107 [1:02:13<06:21,  1.19s/it]"
     ]
    },
    {
     "name": "stdout",
     "output_type": "stream",
     "text": [
      "Request failed for series_id '58094': 404 Client Error: Not Found for url: https://api.themoviedb.org/3/tv/58094/season/1/credits?api_key=32dbe6d07ffdac1942e8ac6462168e45\n"
     ]
    },
    {
     "name": "stderr",
     "output_type": "stream",
     "text": [
      " 96%|███████████████████████████████████▋ | 2998/3107 [1:06:15<02:13,  1.23s/it]"
     ]
    },
    {
     "name": "stdout",
     "output_type": "stream",
     "text": [
      "Request failed for series_id '255449': 404 Client Error: Not Found for url: https://api.themoviedb.org/3/tv/255449/season/1/credits?api_key=32dbe6d07ffdac1942e8ac6462168e45\n"
     ]
    },
    {
     "name": "stderr",
     "output_type": "stream",
     "text": [
      "100%|█████████████████████████████████████| 3107/3107 [1:08:29<00:00,  1.32s/it]\n"
     ]
    }
   ],
   "source": [
    "import time\n",
    "import requests\n",
    "from dotenv import load_dotenv\n",
    "import os\n",
    "import pandas as pd\n",
    "from tqdm import tqdm  # <- optional progress bar\n",
    "\n",
    "#–– Load API key\n",
    "load_dotenv('secrets.env')\n",
    "key = os.getenv('API_KEY')\n",
    "parameters = {'api_key': key}\n",
    "\n",
    "#–– Read CSV, filter to only rows with any null, keep original indices\n",
    "dataframe = pd.read_csv('netflix_titles.csv')\n",
    "df = dataframe[dataframe.isnull().any(axis=1)].copy()\n",
    "\n",
    "#–– In‐memory caches (title → ID)\n",
    "movie_id_cache = {}\n",
    "series_id_cache = {}\n",
    "\n",
    "def get_movie_id(movie_name):\n",
    "    # Check cache first\n",
    "    if movie_name in movie_id_cache:\n",
    "        return movie_id_cache[movie_name]\n",
    "    \n",
    "    url_for_movies = \"https://api.themoviedb.org/3/search/movie\"\n",
    "    params = {'api_key': key, 'query': movie_name}\n",
    "    try:\n",
    "        response = requests.get(url_for_movies, params=params)\n",
    "        response.raise_for_status()\n",
    "        results = response.json().get('results', [])\n",
    "        result_id = results[0].get('id', 'Not Available') if results else 'Not Available'\n",
    "        movie_id_cache[movie_name] = result_id\n",
    "        return result_id\n",
    "    except requests.RequestException as e:\n",
    "        print(f\"Request failed for '{movie_name}': {e}\")\n",
    "        return 'Error'\n",
    "    finally:\n",
    "        time.sleep(0.25)\n",
    "\n",
    "def get_movie_director(movie_id):\n",
    "    if movie_id in ('Not Available', 'Error', None):\n",
    "        return 'Not Available'\n",
    "    try:\n",
    "        movie_id = int(movie_id)\n",
    "    except (ValueError, TypeError):\n",
    "        return 'Not Available'\n",
    "\n",
    "    url_for_movies_credits = f\"https://api.themoviedb.org/3/movie/{movie_id}/credits\"\n",
    "    try:\n",
    "        response = requests.get(url_for_movies_credits, params={'api_key': key})\n",
    "        response.raise_for_status()\n",
    "        crew = response.json().get('crew', [])\n",
    "        directors = [member.get('name') for member in crew if 'director' in member.get('job', '').lower()]\n",
    "        return ', '.join(directors) if directors else 'Not Available'\n",
    "    except requests.RequestException as e:\n",
    "        print(f\"Request failed for movie_id '{movie_id}': {e}\")\n",
    "        return 'Error'\n",
    "    finally:\n",
    "        time.sleep(0.25)\n",
    "\n",
    "def get_movie_cast(movie_id):\n",
    "    if movie_id in ('Not Available', 'Error', None):\n",
    "        return 'Not Available'\n",
    "    try:\n",
    "        movie_id = int(movie_id)\n",
    "    except (ValueError, TypeError):\n",
    "        return 'Not Available'\n",
    "\n",
    "    url_for_movies_credits = f\"https://api.themoviedb.org/3/movie/{movie_id}/credits\"\n",
    "    try:\n",
    "        response = requests.get(url_for_movies_credits, params={'api_key': key})\n",
    "        response.raise_for_status()\n",
    "        cast = response.json().get('cast', [])\n",
    "        cast_names = [member.get('name') for member in cast if member.get('name')]\n",
    "        return ', '.join(cast_names) if cast_names else 'Not Available'\n",
    "    except requests.RequestException as e:\n",
    "        print(f\"Request failed for movie_id '{movie_id}': {e}\")\n",
    "        return 'Error'\n",
    "    finally:\n",
    "        time.sleep(0.25)\n",
    "\n",
    "def get_series_id(series_name):\n",
    "    if series_name in series_id_cache:\n",
    "        return series_id_cache[series_name]\n",
    "    \n",
    "    url_for_shows = 'https://api.themoviedb.org/3/search/tv'\n",
    "    params = {'api_key': key, 'query': series_name}\n",
    "    try:\n",
    "        response = requests.get(url_for_shows, params=params)\n",
    "        response.raise_for_status()\n",
    "        results = response.json().get('results', [])\n",
    "        result_id = results[0].get('id', 'Not Available') if results else 'Not Available'\n",
    "        series_id_cache[series_name] = result_id\n",
    "        return result_id\n",
    "    except requests.RequestException as e:\n",
    "        print(f\"Request failed for series '{series_name}': {e}\")\n",
    "        return 'Error'\n",
    "    finally:\n",
    "        time.sleep(0.25)\n",
    "\n",
    "def get_series_director(series_id):\n",
    "    if series_id in ('Not Available', 'Error', None):\n",
    "        return 'Not Available'\n",
    "    try:\n",
    "        series_id = int(series_id)\n",
    "    except (ValueError, TypeError):\n",
    "        return 'Not Available'\n",
    "\n",
    "    url_for_series_credits = f'https://api.themoviedb.org/3/tv/{series_id}/season/1/credits'\n",
    "    try:\n",
    "        response = requests.get(url_for_series_credits, params={'api_key': key})\n",
    "        response.raise_for_status()\n",
    "        crew = response.json().get('crew', [])\n",
    "        directors = [member.get('name') for member in crew if 'director' in member.get('job', '').lower()]\n",
    "        return ', '.join(directors) if directors else 'Not Available'\n",
    "    except requests.RequestException as e:\n",
    "        print(f\"Request failed for series_id '{series_id}': {e}\")\n",
    "        return 'Error'\n",
    "    finally:\n",
    "        time.sleep(0.25)\n",
    "\n",
    "def get_series_cast(series_id):\n",
    "    if series_id in ('Not Available', 'Error', None):\n",
    "        return 'Not Available'\n",
    "    try:\n",
    "        series_id = int(series_id)\n",
    "    except (ValueError, TypeError):\n",
    "        return 'Not Available'\n",
    "\n",
    "    url_for_series_credits = f'https://api.themoviedb.org/3/tv/{series_id}/season/1/credits'\n",
    "    try:\n",
    "        response = requests.get(url_for_series_credits, params={'api_key': key})\n",
    "        response.raise_for_status()\n",
    "        cast = response.json().get('cast', [])\n",
    "        cast_names = [member.get('name') for member in cast if member.get('name')]\n",
    "        return ', '.join(cast_names) if cast_names else 'Not Available'\n",
    "    except requests.RequestException as e:\n",
    "        print(f\"Request failed for series_id '{series_id}': {e}\")\n",
    "        return 'Error'\n",
    "    finally:\n",
    "        time.sleep(0.25)\n",
    "\n",
    "# Only iterate rows missing cast or director\n",
    "mask_missing = df['cast'].isna() | df['director'].isna()\n",
    "rows_to_process = df[mask_missing]\n",
    "\n",
    "for index, row in tqdm(rows_to_process.iterrows(), total=rows_to_process.shape[0]):\n",
    "    title = row.get('title')\n",
    "    content_type = row.get('type')\n",
    "\n",
    "    if pd.isna(title) or pd.isna(content_type):\n",
    "        continue\n",
    "\n",
    "    if content_type == 'Movie':\n",
    "        try:\n",
    "            movie_id = get_movie_id(title)\n",
    "            if movie_id not in ('Not Available', 'Error'):\n",
    "                if pd.isna(row.get('cast')):\n",
    "                    cast = get_movie_cast(movie_id)\n",
    "                    if cast not in ('Not Available', 'Error'):\n",
    "                        df.at[index, 'cast'] = cast\n",
    "\n",
    "                if pd.isna(row.get('director')):\n",
    "                    director = get_movie_director(movie_id)\n",
    "                    if director not in ('Not Available', 'Error'):\n",
    "                        df.at[index, 'director'] = director\n",
    "\n",
    "        except Exception as e:\n",
    "            print(f\"Error processing movie row {index}: {e}\")\n",
    "            continue\n",
    "\n",
    "    else:  # Series\n",
    "        try:\n",
    "            series_id = get_series_id(title)\n",
    "            if series_id not in ('Not Available', 'Error'):\n",
    "                if pd.isna(row.get('cast')):\n",
    "                    cast = get_series_cast(series_id)\n",
    "                    if cast not in ('Not Available', 'Error'):\n",
    "                        df.at[index, 'cast'] = cast\n",
    "\n",
    "                if pd.isna(row.get('director')):\n",
    "                    director = get_series_director(series_id)\n",
    "                    if director not in ('Not Available', 'Error'):\n",
    "                        df.at[index, 'director'] = director\n",
    "\n",
    "        except Exception as e:\n",
    "            print(f\"Error processing series row {index}: {e}\")\n",
    "            continue\n",
    "\n",
    "# Merge updates back into the full dataframe and save\n",
    "dataframe.loc[df.index, ['cast', 'director']] = df[['cast', 'director']]\n",
    "dataframe.to_csv('netflix_titles_updated.csv', index=False)\n"
   ]
  },
  {
   "cell_type": "code",
   "execution_count": null,
   "id": "c5b06eed-2e57-4588-99d8-c91db244ea3a",
   "metadata": {},
   "outputs": [],
   "source": [
    "\n",
    "\n"
   ]
  },
  {
   "cell_type": "code",
   "execution_count": null,
   "id": "5836f0a5-064c-4856-9c68-6e40acb2b5ae",
   "metadata": {},
   "outputs": [],
   "source": []
  }
 ],
 "metadata": {
  "kernelspec": {
   "display_name": "Python 3 (ipykernel)",
   "language": "python",
   "name": "python3"
  },
  "language_info": {
   "codemirror_mode": {
    "name": "ipython",
    "version": 3
   },
   "file_extension": ".py",
   "mimetype": "text/x-python",
   "name": "python",
   "nbconvert_exporter": "python",
   "pygments_lexer": "ipython3",
   "version": "3.11.5"
  }
 },
 "nbformat": 4,
 "nbformat_minor": 5
}
